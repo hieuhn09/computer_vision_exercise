{
 "cells": [
  {
   "cell_type": "code",
   "execution_count": 1,
   "metadata": {},
   "outputs": [],
   "source": [
    "import cv2\n",
    "import pandas as pd\n",
    "import matplotlib.pyplot as plt\n",
    "from PIL import Image\n",
    "import numpy as np\n",
    "import os"
   ]
  },
  {
   "cell_type": "code",
   "execution_count": 137,
   "metadata": {},
   "outputs": [],
   "source": [
    "def template_matching_with_mask(main_image_path, template_path, mask_threshold=200, threshold=0.9, scales=np.linspace(0.5, 0.7, 30)):\n",
    "    \"\"\"\n",
    "    Perform template matching with mask on multiple object images.\n",
    "    \n",
    "    Args:\n",
    "    main_image_path (str): Path to the main image.\n",
    "    mask_threshold (int): Threshold for creating the mask.\n",
    "    scales (numpy.ndarray): Array of scale factors for resizing.\n",
    "    \n",
    "    Returns:\n",
    "    list: List of best match details for each object (position, size, correlation).\n",
    "    \"\"\"\n",
    "    main_image = cv2.imread(main_image_path)\n",
    "    if main_image is None:\n",
    "        raise ValueError(\"Unable to read the main image\")\n",
    "    \n",
    "    main_gray = cv2.cvtColor(main_image, cv2.COLOR_BGR2GRAY)\n",
    "    best_matches = []\n",
    "\n",
    "    object = cv2.imread(template_path)\n",
    "    object_gray = cv2.cvtColor(object, cv2.COLOR_BGR2GRAY)\n",
    "    _, object_mask = cv2.threshold(object_gray, mask_threshold, 255, cv2.THRESH_BINARY)\n",
    "    \n",
    "    # Show object mask\n",
    "    plt.imshow(object_mask, cmap='gray')\n",
    "    plt.axis('off')\n",
    "    plt.title('Object Mask')\n",
    "    plt.show()\n",
    "    \n",
    "    matches = find_best_match(main_gray, object_gray, object_mask, scales, threshold)\n",
    "\n",
    "    for i, match in enumerate(matches):\n",
    "        draw_result(main_image, match, i)\n",
    "\n",
    "    task_index = main_image_path[-5]\n",
    "    result_name = f'result_{task_index}.jpg'\n",
    "    cv2.imwrite(result_name, main_image)\n",
    "    return best_matches\n",
    "\n",
    "def find_best_match(main_gray, object_gray, object_mask, scales, threshold=0.9):\n",
    "    \"\"\"\n",
    "    Find the best match for an object in the main image across different scales.\n",
    "    \n",
    "    Args:\n",
    "    main_gray (numpy.ndarray): Grayscale main image.\n",
    "    object_gray (numpy.ndarray): Grayscale object image.\n",
    "    object_mask (numpy.ndarray): Binary mask of the object.\n",
    "    scales (numpy.ndarray): Array of scale factors for resizing.\n",
    "    threshold (float): Threshold for considering a match.\n",
    "    \n",
    "    Returns:\n",
    "    tuple: Best match details (position, size, correlation).\n",
    "    \"\"\"\n",
    "    matches = []\n",
    "\n",
    "    for scale in scales:\n",
    "        resized_object = cv2.resize(object_gray, None, fx=scale, fy=scale)\n",
    "        resized_mask = cv2.resize(object_mask, None, fx=scale, fy=scale)\n",
    "        h, w = resized_object.shape\n",
    "\n",
    "        result = cv2.matchTemplate(main_gray, resized_object, cv2.TM_CCOEFF_NORMED, mask=resized_mask)\n",
    "        \n",
    "        # Tìm tất cả các vị trí có giá trị tương quan lớn hơn ngưỡng\n",
    "        locations = np.where(result >= threshold)\n",
    "        for pt in zip(*locations[::-1]):  # Đảo ngược vì numpy trả về (y, x)\n",
    "            matches.append((pt, (h, w), result[pt[1], pt[0]]))\n",
    "    \n",
    "    # Loại bỏ các kết quả trùng lặp\n",
    "    matches = non_max_suppression(matches)\n",
    "    \n",
    "    return matches\n",
    "\n",
    "def draw_result(main_image, match, i):\n",
    "    \"\"\"\n",
    "    Draw the best match result on the main image.\n",
    "    \n",
    "    Args:\n",
    "    main_image (numpy.ndarray): Main image to draw on.\n",
    "    match (tuple): Match details (position, size, correlation score).\n",
    "    i (int): Object index.\n",
    "    \"\"\"\n",
    "    pt, (h, w), score = match\n",
    "    cv2.rectangle(main_image, pt, (pt[0] + w, pt[1] + h), (0, 0, 0), 2)\n",
    "\n",
    "def non_max_suppresion(boxes, overlapThreshold=0.05):\n",
    "    \"\"\"\n",
    "    Perform non max suppresion\n",
    "    Args:\n",
    "        boxes (List): List of tuples (x, y, w, h) where (x, y) is the top left corner of the bounding box.\n",
    "        overlapThreshold (float): Threshold for the overlap.\n",
    "    Returns:\n",
    "        suppressed (List): List of tuples (x, y, w, h) after non max suppresion.\n",
    "    \"\"\"\n",
    "    if len(boxes) == 0:\n",
    "        return []\n",
    "\n",
    "    boxes = np.array(boxes)\n",
    "    x1 = boxes[:, 0]\n",
    "    y1 = boxes[:, 1]\n",
    "    x2 = boxes[:, 0] + boxes[:, 2]\n",
    "    y2 = boxes[:, 1] + boxes[:, 3]\n",
    "\n",
    "    area = boxes[:, 2] * boxes[:, 3]\n",
    "    idxs = np.argsort(y2)\n",
    "\n",
    "    suppressed = []\n",
    "\n",
    "    while len(idxs) > 0:\n",
    "        last = len(idxs) - 1\n",
    "        i = idxs[last]\n",
    "        suppressed.append(boxes[i])\n",
    "\n",
    "        xx1 = np.maximum(x1[i], x1[idxs[:last]])\n",
    "        yy1 = np.maximum(y1[i], y1[idxs[:last]])\n",
    "        xx2 = np.minimum(x2[i], x2[idxs[:last]])\n",
    "        yy2 = np.minimum(y2[i], y2[idxs[:last]])\n",
    "\n",
    "        w = np.maximum(0, xx2 - xx1 + 1)\n",
    "        h = np.maximum(0, yy2 - yy1 + 1)\n",
    "\n",
    "        overlap = (w * h) / area[idxs[:last]]\n",
    "\n",
    "        idxs = np.delete(idxs, np.concatenate(([last], np.where(overlap > overlapThreshold)[0])))\n",
    "\n",
    "    return suppressed\n"
   ]
  },
  {
   "cell_type": "code",
   "execution_count": 141,
   "metadata": {},
   "outputs": [
    {
     "data": {
      "image/png": "[encoded data removed]",
      "text/plain": [
       "<Figure size 640x480 with 1 Axes>"
      ]
     },
     "metadata": {},
     "output_type": "display_data"
    },
    {
     "data": {
      "text/plain": [
       "[]"
      ]
     },
     "execution_count": 141,
     "metadata": {},
     "output_type": "execute_result"
    }
   ],
   "source": [
    "template_matching_with_mask('cat.jpg', 'cat_eyes.png', mask_threshold=110, threshold=0.1)"
   ]
  },
  {
   "cell_type": "code",
   "execution_count": null,
   "metadata": {},
   "outputs": [],
   "source": []
  },
  {
   "cell_type": "markdown",
   "metadata": {},
   "source": []
  }
 ],
 "metadata": {
  "kernelspec": {
   "display_name": "Python 3",
   "language": "python",
   "name": "python3"
  },
  "language_info": {
   "codemirror_mode": {
    "name": "ipython",
    "version": 3
   },
   "file_extension": ".py",
   "mimetype": "text/x-python",
   "name": "python",
   "nbconvert_exporter": "python",
   "pygments_lexer": "ipython3",
   "version": "3.10.6"
  }
 },
 "nbformat": 4,
 "nbformat_minor": 2
}
